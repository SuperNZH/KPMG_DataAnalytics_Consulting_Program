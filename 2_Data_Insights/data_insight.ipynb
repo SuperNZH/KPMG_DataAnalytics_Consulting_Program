{
  "nbformat": 4,
  "nbformat_minor": 0,
  "metadata": {
    "colab": {
      "name": "data_insight.ipynb",
      "provenance": [],
      "authorship_tag": "ABX9TyMajXgQNG3W3ok5cOFTt6FU",
      "include_colab_link": true
    },
    "kernelspec": {
      "name": "python3",
      "display_name": "Python 3"
    },
    "language_info": {
      "name": "python"
    }
  },
  "cells": [
    {
      "cell_type": "markdown",
      "metadata": {
        "id": "view-in-github",
        "colab_type": "text"
      },
      "source": [
        "<a href=\"https://colab.research.google.com/github/SuperNZH/KPMG_DataAnalytics_Virtual_Program/blob/main/2_Data_Insights/data_insight.ipynb\" target=\"_parent\"><img src=\"https://colab.research.google.com/assets/colab-badge.svg\" alt=\"Open In Colab\"/></a>"
      ]
    },
    {
      "cell_type": "markdown",
      "source": [
        "# Introduction\n",
        "\n",
        "**Sprocket Central Pty Ltd** has given us a new list of 1000 potential customers with their demographics and attributes. However, these customers do not have prior transaction history with the organisation. \n",
        "\n",
        "Using the existing 3 datasets (Customer demographic, customer address and transactions) as a labelled dataset, recommend which of these 1000 new customers should be targeted to drive the most value for the organisation. \n",
        "\n",
        "---\n",
        "\n",
        "***OBJECTIVE***\n",
        "\n",
        "*   Data Exploration\n",
        "*   Model Development\n",
        "*   Interpretation\n",
        "\n",
        "\n",
        "\n",
        "***PROCESS*** \n",
        "\n",
        "1. Understanding the data distributions\n",
        "2. Feature engineering\n",
        "3. Data transformations\n",
        "4. Modelling\n",
        "5. Results interpretation and reporting.\n",
        "\n",
        "PowerPoint presentation includes a detailed approach for our strategy behind each of the 3 phases including activities involved in each - i.e. understanding the data distributions, feature engineering, data transformations, modelling, results interpretation and reporting. This detailed plan needs to be presented to the client to get a sign-off."
      ],
      "metadata": {
        "id": "cQ_sjCRvxibt"
      }
    },
    {
      "cell_type": "markdown",
      "source": [
        "# Mount Drive and Read Data"
      ],
      "metadata": {
        "id": "KvPz4nRezqU4"
      }
    },
    {
      "cell_type": "code",
      "execution_count": 1,
      "metadata": {
        "colab": {
          "base_uri": "https://localhost:8080/"
        },
        "id": "7beUTGqnq2UZ",
        "outputId": "29d11215-27df-4aa5-94b8-4fe9ce04fe14"
      },
      "outputs": [
        {
          "output_type": "stream",
          "name": "stdout",
          "text": [
            "Mounted at /content/drive\n"
          ]
        }
      ],
      "source": [
        "from google.colab import drive\n",
        "drive.mount('/content/drive')\n",
        "import pandas as pd"
      ]
    },
    {
      "cell_type": "code",
      "source": [
        "path = \"/content/drive/MyDrive/Colab_Notebooks/my_project/kpmg_virtual_intern/kpmg.xlsx\"\n",
        "\n",
        "# For Training\n",
        "transactions = pd.read_excel(path, sheet_name=1, header=1)\n",
        "customer_demographic = pd.read_excel(path, sheet_name=3, header=1)\n",
        "customer_address = pd.read_excel(path, sheet_name=4, header=1)\n",
        "\n",
        "# For Prediction\n",
        "new_customer_list = pd.read_excel(path, sheet_name=2, header=1)"
      ],
      "metadata": {
        "colab": {
          "base_uri": "https://localhost:8080/"
        },
        "id": "4eLy4jM4z8TF",
        "outputId": "6d90468d-5672-426b-f67d-6e7ef598c67b"
      },
      "execution_count": 2,
      "outputs": [
        {
          "output_type": "stream",
          "name": "stderr",
          "text": [
            "/usr/local/lib/python3.7/dist-packages/ipykernel_launcher.py:5: FutureWarning: Inferring datetime64[ns] from data containing strings is deprecated and will be removed in a future version. To retain the old behavior explicitly pass Series(data, dtype={value.dtype})\n",
            "  \"\"\"\n",
            "/usr/local/lib/python3.7/dist-packages/ipykernel_launcher.py:9: FutureWarning: Inferring datetime64[ns] from data containing strings is deprecated and will be removed in a future version. To retain the old behavior explicitly pass Series(data, dtype={value.dtype})\n",
            "  if __name__ == '__main__':\n"
          ]
        }
      ]
    },
    {
      "cell_type": "markdown",
      "source": [
        "# EDA"
      ],
      "metadata": {
        "id": "u_JLMtO70jxM"
      }
    },
    {
      "cell_type": "markdown",
      "source": [
        "In this project, I'm going to use classification machine learning algorithm to output the proper customer segmentation\n",
        "\n",
        "First step is to seek what features the \"NewCustomerList\" dataset has"
      ],
      "metadata": {
        "id": "xp4dkMN_0qE8"
      }
    },
    {
      "cell_type": "code",
      "source": [
        "new_customer_list = "
      ],
      "metadata": {
        "id": "SE0ui6vb0hUm"
      },
      "execution_count": null,
      "outputs": []
    }
  ]
}