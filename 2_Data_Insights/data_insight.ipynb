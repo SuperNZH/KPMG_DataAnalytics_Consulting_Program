{
  "cells": [
    {
      "cell_type": "markdown",
      "metadata": {
        "id": "view-in-github",
        "colab_type": "text"
      },
      "source": [
        "<a href=\"https://colab.research.google.com/github/SuperNZH/KPMG_DataAnalytics_Virtual_Program/blob/main/2_Data_Insights/data_insight.ipynb\" target=\"_parent\"><img src=\"https://colab.research.google.com/assets/colab-badge.svg\" alt=\"Open In Colab\"/></a>"
      ]
    },
    {
      "cell_type": "markdown",
      "metadata": {
        "id": "cQ_sjCRvxibt"
      },
      "source": [
        "# Introduction\n",
        "\n",
        "**Sprocket Central Pty Ltd** has given us a new list of 1000 potential customers with their demographics and attributes. However, these customers do not have prior transaction history with the organisation. \n",
        "\n",
        "Using the existing 3 datasets (Customer demographic, customer address and transactions) as a labelled dataset, recommend which of these 1000 new customers should be targeted to drive the most value for the organisation. \n",
        "\n",
        "---\n",
        "\n",
        "***OBJECTIVE***\n",
        "\n",
        "*   Data Exploration\n",
        "*   Model Development\n",
        "*   Interpretation\n",
        "\n",
        "\n",
        "\n",
        "***PROCESS*** \n",
        "\n",
        "1. Understanding the data distributions\n",
        "2. Feature engineering\n",
        "3. Data transformations\n",
        "4. Modelling\n",
        "5. Results interpretation and reporting.\n",
        "\n",
        "PowerPoint presentation includes a detailed approach for our strategy behind each of the 3 phases including activities involved in each - i.e. understanding the data distributions, feature engineering, data transformations, modelling, results interpretation and reporting. This detailed plan needs to be presented to the client to get a sign-off."
      ]
    },
    {
      "cell_type": "markdown",
      "metadata": {
        "id": "KvPz4nRezqU4"
      },
      "source": [
        "# Mount Drive and Read Data"
      ]
    },
    {
      "cell_type": "code",
      "execution_count": 1,
      "metadata": {
        "colab": {
          "base_uri": "https://localhost:8080/"
        },
        "id": "7beUTGqnq2UZ",
        "outputId": "8844f3d8-d104-4dec-c801-c2061f586a7d"
      },
      "outputs": [
        {
          "output_type": "stream",
          "name": "stdout",
          "text": [
            "Drive already mounted at /content/drive; to attempt to forcibly remount, call drive.mount(\"/content/drive\", force_remount=True).\n"
          ]
        }
      ],
      "source": [
        "from google.colab import drive\n",
        "drive.mount('/content/drive')\n",
        "import pandas as pd"
      ]
    },
    {
      "cell_type": "code",
      "source": [
        "import seaborn as sns\n",
        "import matplotlib.pyplot as plt\n",
        "%matplotlib inline"
      ],
      "metadata": {
        "id": "OJwQbBwOPL5A"
      },
      "execution_count": 23,
      "outputs": []
    },
    {
      "cell_type": "code",
      "execution_count": 2,
      "metadata": {
        "colab": {
          "base_uri": "https://localhost:8080/"
        },
        "id": "4eLy4jM4z8TF",
        "outputId": "afaefc3d-b4e6-4823-9425-6dff6dd54ca1"
      },
      "outputs": [
        {
          "output_type": "stream",
          "name": "stderr",
          "text": [
            "/usr/local/lib/python3.7/dist-packages/ipykernel_launcher.py:5: FutureWarning: Inferring datetime64[ns] from data containing strings is deprecated and will be removed in a future version. To retain the old behavior explicitly pass Series(data, dtype={value.dtype})\n",
            "  \"\"\"\n",
            "/usr/local/lib/python3.7/dist-packages/ipykernel_launcher.py:9: FutureWarning: Inferring datetime64[ns] from data containing strings is deprecated and will be removed in a future version. To retain the old behavior explicitly pass Series(data, dtype={value.dtype})\n",
            "  if __name__ == '__main__':\n"
          ]
        }
      ],
      "source": [
        "path = \"/content/drive/MyDrive/Colab_Notebooks/my_project/kpmg_virtual_intern/kpmg.xlsx\"\n",
        "\n",
        "# For Training\n",
        "transactions = pd.read_excel(path, sheet_name=1, header=1)\n",
        "customer_demographic = pd.read_excel(path, sheet_name=3, header=1)\n",
        "customer_address = pd.read_excel(path, sheet_name=4, header=1)\n",
        "\n",
        "# For Prediction\n",
        "new_customer_list = pd.read_excel(path, sheet_name=2, header=1)"
      ]
    },
    {
      "cell_type": "code",
      "execution_count": 3,
      "metadata": {
        "colab": {
          "base_uri": "https://localhost:8080/"
        },
        "id": "kHlnI4VxhTFz",
        "outputId": "84dd6650-9e10-4a30-e813-9e56b64b4c90"
      },
      "outputs": [
        {
          "output_type": "execute_result",
          "data": {
            "text/plain": [
              "Index(['transaction_id', 'product_id', 'customer_id', 'transaction_date',\n",
              "       'online_order', 'order_status', 'brand', 'product_line',\n",
              "       'product_class', 'product_size', 'list_price', 'standard_cost',\n",
              "       'product_first_sold_date'],\n",
              "      dtype='object')"
            ]
          },
          "metadata": {},
          "execution_count": 3
        }
      ],
      "source": [
        "transactions.columns"
      ]
    },
    {
      "cell_type": "code",
      "execution_count": 4,
      "metadata": {
        "colab": {
          "base_uri": "https://localhost:8080/"
        },
        "id": "xEkxXMpuhWHK",
        "outputId": "172101c5-7cb7-4587-ceba-74526106278c"
      },
      "outputs": [
        {
          "output_type": "execute_result",
          "data": {
            "text/plain": [
              "Index(['customer_id', 'first_name', 'last_name', 'gender',\n",
              "       'past_3_years_bike_related_purchases', 'DOB', 'job_title',\n",
              "       'job_industry_category', 'wealth_segment', 'deceased_indicator',\n",
              "       'default', 'owns_car', 'tenure'],\n",
              "      dtype='object')"
            ]
          },
          "metadata": {},
          "execution_count": 4
        }
      ],
      "source": [
        "customer_demographic.columns"
      ]
    },
    {
      "cell_type": "code",
      "execution_count": 5,
      "metadata": {
        "colab": {
          "base_uri": "https://localhost:8080/"
        },
        "id": "K1VXmfRThWyS",
        "outputId": "2f49db3e-3963-46c7-8b6e-df06fd81afd5"
      },
      "outputs": [
        {
          "output_type": "execute_result",
          "data": {
            "text/plain": [
              "Index(['customer_id', 'address', 'postcode', 'state', 'country',\n",
              "       'property_valuation'],\n",
              "      dtype='object')"
            ]
          },
          "metadata": {},
          "execution_count": 5
        }
      ],
      "source": [
        "customer_address.columns"
      ]
    },
    {
      "cell_type": "markdown",
      "metadata": {
        "id": "u_JLMtO70jxM"
      },
      "source": [
        "# EDA"
      ]
    },
    {
      "cell_type": "markdown",
      "metadata": {
        "id": "dA25csHRC2nJ"
      },
      "source": [
        "The above steps are intended to get a rough and quick overview of the new data set\n",
        "\n",
        "We should **Join** 3 different tables at first so that can be easier to compare with newCustomerList"
      ]
    },
    {
      "cell_type": "markdown",
      "source": [
        "## Merge 3 Tables"
      ],
      "metadata": {
        "id": "xn3rJDV18ns-"
      }
    },
    {
      "cell_type": "code",
      "execution_count": 6,
      "metadata": {
        "colab": {
          "base_uri": "https://localhost:8080/"
        },
        "id": "SFsAtVlbCtJC",
        "outputId": "bfe96124-bc91-431d-8346-7e25459bd754"
      },
      "outputs": [
        {
          "output_type": "stream",
          "name": "stdout",
          "text": [
            "(20000, 13)\n",
            "(4000, 13)\n",
            "(3999, 6)\n"
          ]
        }
      ],
      "source": [
        "print(transactions.shape)\n",
        "print(customer_demographic.shape)\n",
        "print(customer_address.shape)"
      ]
    },
    {
      "cell_type": "code",
      "execution_count": 7,
      "metadata": {
        "colab": {
          "base_uri": "https://localhost:8080/",
          "height": 386
        },
        "id": "GJutbEvy-GRl",
        "outputId": "4f46685b-cf32-4ec3-e765-e7b2589c78f4"
      },
      "outputs": [
        {
          "output_type": "execute_result",
          "data": {
            "text/plain": [
              "   customer_id first_name  last_name gender  \\\n",
              "0          1.0    Laraine  Medendorp      F   \n",
              "0          1.0    Laraine  Medendorp      F   \n",
              "0          1.0    Laraine  Medendorp      F   \n",
              "0          1.0    Laraine  Medendorp      F   \n",
              "0          1.0    Laraine  Medendorp      F   \n",
              "\n",
              "   past_3_years_bike_related_purchases        DOB            job_title  \\\n",
              "0                                 93.0 1953-10-12  Executive Secretary   \n",
              "0                                 93.0 1953-10-12  Executive Secretary   \n",
              "0                                 93.0 1953-10-12  Executive Secretary   \n",
              "0                                 93.0 1953-10-12  Executive Secretary   \n",
              "0                                 93.0 1953-10-12  Executive Secretary   \n",
              "\n",
              "  job_industry_category wealth_segment deceased_indicator  ...  \\\n",
              "0                Health  Mass Customer                  N  ...   \n",
              "0                Health  Mass Customer                  N  ...   \n",
              "0                Health  Mass Customer                  N  ...   \n",
              "0                Health  Mass Customer                  N  ...   \n",
              "0                Health  Mass Customer                  N  ...   \n",
              "\n",
              "  transaction_date online_order  order_status           brand  product_line  \\\n",
              "0       2017-12-23          0.0      Approved      OHM Cycles      Standard   \n",
              "0       2017-04-06          1.0      Approved           Solex      Standard   \n",
              "0       2017-05-11          1.0      Approved   Trek Bicycles          Road   \n",
              "0       2017-01-05          0.0      Approved  Norco Bicycles      Standard   \n",
              "0       2017-02-21          0.0      Approved           Solex      Standard   \n",
              "\n",
              "  product_class product_size  list_price  standard_cost  \\\n",
              "0        medium       medium      235.63         125.07   \n",
              "0        medium       medium     1577.53         826.51   \n",
              "0           low        small     1720.70        1531.42   \n",
              "0        medium       medium      360.40         270.30   \n",
              "0        medium       medium       71.49          53.62   \n",
              "\n",
              "   product_first_sold_date  \n",
              "0                  38482.0  \n",
              "0                  39526.0  \n",
              "0                  37823.0  \n",
              "0                  37873.0  \n",
              "0                  38573.0  \n",
              "\n",
              "[5 rows x 30 columns]"
            ],
            "text/html": [
              "\n",
              "  <div id=\"df-1661fd1f-056a-455b-abd3-573f1d7284b4\">\n",
              "    <div class=\"colab-df-container\">\n",
              "      <div>\n",
              "<style scoped>\n",
              "    .dataframe tbody tr th:only-of-type {\n",
              "        vertical-align: middle;\n",
              "    }\n",
              "\n",
              "    .dataframe tbody tr th {\n",
              "        vertical-align: top;\n",
              "    }\n",
              "\n",
              "    .dataframe thead th {\n",
              "        text-align: right;\n",
              "    }\n",
              "</style>\n",
              "<table border=\"1\" class=\"dataframe\">\n",
              "  <thead>\n",
              "    <tr style=\"text-align: right;\">\n",
              "      <th></th>\n",
              "      <th>customer_id</th>\n",
              "      <th>first_name</th>\n",
              "      <th>last_name</th>\n",
              "      <th>gender</th>\n",
              "      <th>past_3_years_bike_related_purchases</th>\n",
              "      <th>DOB</th>\n",
              "      <th>job_title</th>\n",
              "      <th>job_industry_category</th>\n",
              "      <th>wealth_segment</th>\n",
              "      <th>deceased_indicator</th>\n",
              "      <th>...</th>\n",
              "      <th>transaction_date</th>\n",
              "      <th>online_order</th>\n",
              "      <th>order_status</th>\n",
              "      <th>brand</th>\n",
              "      <th>product_line</th>\n",
              "      <th>product_class</th>\n",
              "      <th>product_size</th>\n",
              "      <th>list_price</th>\n",
              "      <th>standard_cost</th>\n",
              "      <th>product_first_sold_date</th>\n",
              "    </tr>\n",
              "  </thead>\n",
              "  <tbody>\n",
              "    <tr>\n",
              "      <th>0</th>\n",
              "      <td>1.0</td>\n",
              "      <td>Laraine</td>\n",
              "      <td>Medendorp</td>\n",
              "      <td>F</td>\n",
              "      <td>93.0</td>\n",
              "      <td>1953-10-12</td>\n",
              "      <td>Executive Secretary</td>\n",
              "      <td>Health</td>\n",
              "      <td>Mass Customer</td>\n",
              "      <td>N</td>\n",
              "      <td>...</td>\n",
              "      <td>2017-12-23</td>\n",
              "      <td>0.0</td>\n",
              "      <td>Approved</td>\n",
              "      <td>OHM Cycles</td>\n",
              "      <td>Standard</td>\n",
              "      <td>medium</td>\n",
              "      <td>medium</td>\n",
              "      <td>235.63</td>\n",
              "      <td>125.07</td>\n",
              "      <td>38482.0</td>\n",
              "    </tr>\n",
              "    <tr>\n",
              "      <th>0</th>\n",
              "      <td>1.0</td>\n",
              "      <td>Laraine</td>\n",
              "      <td>Medendorp</td>\n",
              "      <td>F</td>\n",
              "      <td>93.0</td>\n",
              "      <td>1953-10-12</td>\n",
              "      <td>Executive Secretary</td>\n",
              "      <td>Health</td>\n",
              "      <td>Mass Customer</td>\n",
              "      <td>N</td>\n",
              "      <td>...</td>\n",
              "      <td>2017-04-06</td>\n",
              "      <td>1.0</td>\n",
              "      <td>Approved</td>\n",
              "      <td>Solex</td>\n",
              "      <td>Standard</td>\n",
              "      <td>medium</td>\n",
              "      <td>medium</td>\n",
              "      <td>1577.53</td>\n",
              "      <td>826.51</td>\n",
              "      <td>39526.0</td>\n",
              "    </tr>\n",
              "    <tr>\n",
              "      <th>0</th>\n",
              "      <td>1.0</td>\n",
              "      <td>Laraine</td>\n",
              "      <td>Medendorp</td>\n",
              "      <td>F</td>\n",
              "      <td>93.0</td>\n",
              "      <td>1953-10-12</td>\n",
              "      <td>Executive Secretary</td>\n",
              "      <td>Health</td>\n",
              "      <td>Mass Customer</td>\n",
              "      <td>N</td>\n",
              "      <td>...</td>\n",
              "      <td>2017-05-11</td>\n",
              "      <td>1.0</td>\n",
              "      <td>Approved</td>\n",
              "      <td>Trek Bicycles</td>\n",
              "      <td>Road</td>\n",
              "      <td>low</td>\n",
              "      <td>small</td>\n",
              "      <td>1720.70</td>\n",
              "      <td>1531.42</td>\n",
              "      <td>37823.0</td>\n",
              "    </tr>\n",
              "    <tr>\n",
              "      <th>0</th>\n",
              "      <td>1.0</td>\n",
              "      <td>Laraine</td>\n",
              "      <td>Medendorp</td>\n",
              "      <td>F</td>\n",
              "      <td>93.0</td>\n",
              "      <td>1953-10-12</td>\n",
              "      <td>Executive Secretary</td>\n",
              "      <td>Health</td>\n",
              "      <td>Mass Customer</td>\n",
              "      <td>N</td>\n",
              "      <td>...</td>\n",
              "      <td>2017-01-05</td>\n",
              "      <td>0.0</td>\n",
              "      <td>Approved</td>\n",
              "      <td>Norco Bicycles</td>\n",
              "      <td>Standard</td>\n",
              "      <td>medium</td>\n",
              "      <td>medium</td>\n",
              "      <td>360.40</td>\n",
              "      <td>270.30</td>\n",
              "      <td>37873.0</td>\n",
              "    </tr>\n",
              "    <tr>\n",
              "      <th>0</th>\n",
              "      <td>1.0</td>\n",
              "      <td>Laraine</td>\n",
              "      <td>Medendorp</td>\n",
              "      <td>F</td>\n",
              "      <td>93.0</td>\n",
              "      <td>1953-10-12</td>\n",
              "      <td>Executive Secretary</td>\n",
              "      <td>Health</td>\n",
              "      <td>Mass Customer</td>\n",
              "      <td>N</td>\n",
              "      <td>...</td>\n",
              "      <td>2017-02-21</td>\n",
              "      <td>0.0</td>\n",
              "      <td>Approved</td>\n",
              "      <td>Solex</td>\n",
              "      <td>Standard</td>\n",
              "      <td>medium</td>\n",
              "      <td>medium</td>\n",
              "      <td>71.49</td>\n",
              "      <td>53.62</td>\n",
              "      <td>38573.0</td>\n",
              "    </tr>\n",
              "  </tbody>\n",
              "</table>\n",
              "<p>5 rows × 30 columns</p>\n",
              "</div>\n",
              "      <button class=\"colab-df-convert\" onclick=\"convertToInteractive('df-1661fd1f-056a-455b-abd3-573f1d7284b4')\"\n",
              "              title=\"Convert this dataframe to an interactive table.\"\n",
              "              style=\"display:none;\">\n",
              "        \n",
              "  <svg xmlns=\"http://www.w3.org/2000/svg\" height=\"24px\"viewBox=\"0 0 24 24\"\n",
              "       width=\"24px\">\n",
              "    <path d=\"M0 0h24v24H0V0z\" fill=\"none\"/>\n",
              "    <path d=\"M18.56 5.44l.94 2.06.94-2.06 2.06-.94-2.06-.94-.94-2.06-.94 2.06-2.06.94zm-11 1L8.5 8.5l.94-2.06 2.06-.94-2.06-.94L8.5 2.5l-.94 2.06-2.06.94zm10 10l.94 2.06.94-2.06 2.06-.94-2.06-.94-.94-2.06-.94 2.06-2.06.94z\"/><path d=\"M17.41 7.96l-1.37-1.37c-.4-.4-.92-.59-1.43-.59-.52 0-1.04.2-1.43.59L10.3 9.45l-7.72 7.72c-.78.78-.78 2.05 0 2.83L4 21.41c.39.39.9.59 1.41.59.51 0 1.02-.2 1.41-.59l7.78-7.78 2.81-2.81c.8-.78.8-2.07 0-2.86zM5.41 20L4 18.59l7.72-7.72 1.47 1.35L5.41 20z\"/>\n",
              "  </svg>\n",
              "      </button>\n",
              "      \n",
              "  <style>\n",
              "    .colab-df-container {\n",
              "      display:flex;\n",
              "      flex-wrap:wrap;\n",
              "      gap: 12px;\n",
              "    }\n",
              "\n",
              "    .colab-df-convert {\n",
              "      background-color: #E8F0FE;\n",
              "      border: none;\n",
              "      border-radius: 50%;\n",
              "      cursor: pointer;\n",
              "      display: none;\n",
              "      fill: #1967D2;\n",
              "      height: 32px;\n",
              "      padding: 0 0 0 0;\n",
              "      width: 32px;\n",
              "    }\n",
              "\n",
              "    .colab-df-convert:hover {\n",
              "      background-color: #E2EBFA;\n",
              "      box-shadow: 0px 1px 2px rgba(60, 64, 67, 0.3), 0px 1px 3px 1px rgba(60, 64, 67, 0.15);\n",
              "      fill: #174EA6;\n",
              "    }\n",
              "\n",
              "    [theme=dark] .colab-df-convert {\n",
              "      background-color: #3B4455;\n",
              "      fill: #D2E3FC;\n",
              "    }\n",
              "\n",
              "    [theme=dark] .colab-df-convert:hover {\n",
              "      background-color: #434B5C;\n",
              "      box-shadow: 0px 1px 3px 1px rgba(0, 0, 0, 0.15);\n",
              "      filter: drop-shadow(0px 1px 2px rgba(0, 0, 0, 0.3));\n",
              "      fill: #FFFFFF;\n",
              "    }\n",
              "  </style>\n",
              "\n",
              "      <script>\n",
              "        const buttonEl =\n",
              "          document.querySelector('#df-1661fd1f-056a-455b-abd3-573f1d7284b4 button.colab-df-convert');\n",
              "        buttonEl.style.display =\n",
              "          google.colab.kernel.accessAllowed ? 'block' : 'none';\n",
              "\n",
              "        async function convertToInteractive(key) {\n",
              "          const element = document.querySelector('#df-1661fd1f-056a-455b-abd3-573f1d7284b4');\n",
              "          const dataTable =\n",
              "            await google.colab.kernel.invokeFunction('convertToInteractive',\n",
              "                                                     [key], {});\n",
              "          if (!dataTable) return;\n",
              "\n",
              "          const docLinkHtml = 'Like what you see? Visit the ' +\n",
              "            '<a target=\"_blank\" href=https://colab.research.google.com/notebooks/data_table.ipynb>data table notebook</a>'\n",
              "            + ' to learn more about interactive tables.';\n",
              "          element.innerHTML = '';\n",
              "          dataTable['output_type'] = 'display_data';\n",
              "          await google.colab.output.renderOutput(dataTable, element);\n",
              "          const docLink = document.createElement('div');\n",
              "          docLink.innerHTML = docLinkHtml;\n",
              "          element.appendChild(docLink);\n",
              "        }\n",
              "      </script>\n",
              "    </div>\n",
              "  </div>\n",
              "  "
            ]
          },
          "metadata": {},
          "execution_count": 7
        }
      ],
      "source": [
        "cusDemo_cusAdd = customer_demographic.join(customer_address.set_index('customer_id'), on='customer_id')\n",
        "full_data = cusDemo_cusAdd.join(transactions.set_index('customer_id'), on='customer_id')\n",
        "full_data.head()"
      ]
    },
    {
      "cell_type": "code",
      "execution_count": 8,
      "metadata": {
        "id": "NKVnQ6DE-u2m",
        "colab": {
          "base_uri": "https://localhost:8080/"
        },
        "outputId": "91d2e0ae-727f-4bad-dc6a-ce8ebd28c31f"
      },
      "outputs": [
        {
          "output_type": "execute_result",
          "data": {
            "text/plain": [
              "(20504, 30)"
            ]
          },
          "metadata": {},
          "execution_count": 8
        }
      ],
      "source": [
        "full_data.shape"
      ]
    },
    {
      "cell_type": "code",
      "source": [
        "new_customer_list = new_customer_list.drop(labels=['first_name', 'last_name', 'gender'], axis=1)"
      ],
      "metadata": {
        "id": "uSStyRelGoNk"
      },
      "execution_count": 9,
      "outputs": []
    },
    {
      "cell_type": "code",
      "source": [
        "# columns from full data features but not in the newCustomerList\n",
        "fulldata_col_notin_ncl = [col for col in full_data.columns if col not in new_customer_list.columns]\n",
        "print(len(fulldata_col_notin_ncl), fulldata_col_notin_ncl)"
      ],
      "metadata": {
        "colab": {
          "base_uri": "https://localhost:8080/"
        },
        "id": "l9LDOooE7NWx",
        "outputId": "dc584dd1-0ebd-4e9e-dc39-d110c2a9aedc"
      },
      "execution_count": 10,
      "outputs": [
        {
          "output_type": "stream",
          "name": "stdout",
          "text": [
            "17 ['customer_id', 'first_name', 'last_name', 'gender', 'default', 'transaction_id', 'product_id', 'transaction_date', 'online_order', 'order_status', 'brand', 'product_line', 'product_class', 'product_size', 'list_price', 'standard_cost', 'product_first_sold_date']\n"
          ]
        }
      ]
    },
    {
      "cell_type": "markdown",
      "source": [
        "Actually We should select model targets(output of prediction) from these features from **\"col_drop\"**\n",
        "\n",
        "1. We may select **\"brand\"** feature as the target since we can analyse the customer charateristics to find out what kind brand they like best. This could be a ***Classification*** problem\n",
        "\n",
        "2. The **\"list_price\"** can also be selected as the target feature, since this means we can guess what price different kind of customers can accept. This is a ***\"Regression\"*** problem\n",
        "\n",
        "Then, our work is based on our types of problem, which are **Classification** and **Regression**"
      ],
      "metadata": {
        "id": "Y-f36gK28Hfb"
      }
    },
    {
      "cell_type": "markdown",
      "source": [
        "## Preprocess Data"
      ],
      "metadata": {
        "id": "nOKRJeQG85Q9"
      }
    },
    {
      "cell_type": "code",
      "source": [
        "# Drop unnecessary var from newCustomerList\n"
      ],
      "metadata": {
        "id": "BbGeRY4yGd78"
      },
      "execution_count": 11,
      "outputs": []
    },
    {
      "cell_type": "markdown",
      "metadata": {
        "id": "wYeNtaQgaWI1"
      },
      "source": [
        "### Preprocess the data for Classification"
      ]
    },
    {
      "cell_type": "code",
      "execution_count": 12,
      "metadata": {
        "id": "dq1u7PmFaeIO"
      },
      "outputs": [],
      "source": [
        "# Select the columns used for droping\n",
        "col_drop_cls = fulldata_col_notin_ncl.copy()\n",
        "col_drop_cls.remove('brand')"
      ]
    },
    {
      "cell_type": "code",
      "source": [
        "col_drop_cls"
      ],
      "metadata": {
        "colab": {
          "base_uri": "https://localhost:8080/"
        },
        "id": "tnBTAtu2DYKB",
        "outputId": "642859ff-756c-4625-816c-3d539f88c598"
      },
      "execution_count": 13,
      "outputs": [
        {
          "output_type": "execute_result",
          "data": {
            "text/plain": [
              "['customer_id',\n",
              " 'first_name',\n",
              " 'last_name',\n",
              " 'gender',\n",
              " 'default',\n",
              " 'transaction_id',\n",
              " 'product_id',\n",
              " 'transaction_date',\n",
              " 'online_order',\n",
              " 'order_status',\n",
              " 'product_line',\n",
              " 'product_class',\n",
              " 'product_size',\n",
              " 'list_price',\n",
              " 'standard_cost',\n",
              " 'product_first_sold_date']"
            ]
          },
          "metadata": {},
          "execution_count": 13
        }
      ]
    },
    {
      "cell_type": "code",
      "source": [
        "data_cls = full_data.drop(labels=col_drop_cls, axis=1)"
      ],
      "metadata": {
        "id": "SDzGCz1j_Ifq"
      },
      "execution_count": 14,
      "outputs": []
    },
    {
      "cell_type": "code",
      "source": [
        "print(data_cls.shape)\n",
        "test_col = [col for col in data_cls.columns if col not in new_customer_list.columns]\n",
        "print(test_col)"
      ],
      "metadata": {
        "colab": {
          "base_uri": "https://localhost:8080/"
        },
        "id": "2wkDDd-1AMtm",
        "outputId": "debc3d25-e401-47d5-e8c6-f8e78da09f28"
      },
      "execution_count": 15,
      "outputs": [
        {
          "output_type": "stream",
          "name": "stdout",
          "text": [
            "(20504, 14)\n",
            "['brand']\n"
          ]
        }
      ]
    },
    {
      "cell_type": "code",
      "source": [
        "data_cls.head()"
      ],
      "metadata": {
        "colab": {
          "base_uri": "https://localhost:8080/",
          "height": 443
        },
        "id": "O8AW0n6-ABPQ",
        "outputId": "a23a11fb-99dd-4986-c43d-f7a1de4a1910"
      },
      "execution_count": 16,
      "outputs": [
        {
          "output_type": "execute_result",
          "data": {
            "text/plain": [
              "   past_3_years_bike_related_purchases        DOB            job_title  \\\n",
              "0                                 93.0 1953-10-12  Executive Secretary   \n",
              "0                                 93.0 1953-10-12  Executive Secretary   \n",
              "0                                 93.0 1953-10-12  Executive Secretary   \n",
              "0                                 93.0 1953-10-12  Executive Secretary   \n",
              "0                                 93.0 1953-10-12  Executive Secretary   \n",
              "\n",
              "  job_industry_category wealth_segment deceased_indicator owns_car  tenure  \\\n",
              "0                Health  Mass Customer                  N      Yes    11.0   \n",
              "0                Health  Mass Customer                  N      Yes    11.0   \n",
              "0                Health  Mass Customer                  N      Yes    11.0   \n",
              "0                Health  Mass Customer                  N      Yes    11.0   \n",
              "0                Health  Mass Customer                  N      Yes    11.0   \n",
              "\n",
              "              address  postcode            state    country  \\\n",
              "0  060 Morning Avenue    2016.0  New South Wales  Australia   \n",
              "0  060 Morning Avenue    2016.0  New South Wales  Australia   \n",
              "0  060 Morning Avenue    2016.0  New South Wales  Australia   \n",
              "0  060 Morning Avenue    2016.0  New South Wales  Australia   \n",
              "0  060 Morning Avenue    2016.0  New South Wales  Australia   \n",
              "\n",
              "   property_valuation           brand  \n",
              "0                10.0      OHM Cycles  \n",
              "0                10.0           Solex  \n",
              "0                10.0   Trek Bicycles  \n",
              "0                10.0  Norco Bicycles  \n",
              "0                10.0           Solex  "
            ],
            "text/html": [
              "\n",
              "  <div id=\"df-c9eaa097-14f6-441a-9e49-fd0459f09922\">\n",
              "    <div class=\"colab-df-container\">\n",
              "      <div>\n",
              "<style scoped>\n",
              "    .dataframe tbody tr th:only-of-type {\n",
              "        vertical-align: middle;\n",
              "    }\n",
              "\n",
              "    .dataframe tbody tr th {\n",
              "        vertical-align: top;\n",
              "    }\n",
              "\n",
              "    .dataframe thead th {\n",
              "        text-align: right;\n",
              "    }\n",
              "</style>\n",
              "<table border=\"1\" class=\"dataframe\">\n",
              "  <thead>\n",
              "    <tr style=\"text-align: right;\">\n",
              "      <th></th>\n",
              "      <th>past_3_years_bike_related_purchases</th>\n",
              "      <th>DOB</th>\n",
              "      <th>job_title</th>\n",
              "      <th>job_industry_category</th>\n",
              "      <th>wealth_segment</th>\n",
              "      <th>deceased_indicator</th>\n",
              "      <th>owns_car</th>\n",
              "      <th>tenure</th>\n",
              "      <th>address</th>\n",
              "      <th>postcode</th>\n",
              "      <th>state</th>\n",
              "      <th>country</th>\n",
              "      <th>property_valuation</th>\n",
              "      <th>brand</th>\n",
              "    </tr>\n",
              "  </thead>\n",
              "  <tbody>\n",
              "    <tr>\n",
              "      <th>0</th>\n",
              "      <td>93.0</td>\n",
              "      <td>1953-10-12</td>\n",
              "      <td>Executive Secretary</td>\n",
              "      <td>Health</td>\n",
              "      <td>Mass Customer</td>\n",
              "      <td>N</td>\n",
              "      <td>Yes</td>\n",
              "      <td>11.0</td>\n",
              "      <td>060 Morning Avenue</td>\n",
              "      <td>2016.0</td>\n",
              "      <td>New South Wales</td>\n",
              "      <td>Australia</td>\n",
              "      <td>10.0</td>\n",
              "      <td>OHM Cycles</td>\n",
              "    </tr>\n",
              "    <tr>\n",
              "      <th>0</th>\n",
              "      <td>93.0</td>\n",
              "      <td>1953-10-12</td>\n",
              "      <td>Executive Secretary</td>\n",
              "      <td>Health</td>\n",
              "      <td>Mass Customer</td>\n",
              "      <td>N</td>\n",
              "      <td>Yes</td>\n",
              "      <td>11.0</td>\n",
              "      <td>060 Morning Avenue</td>\n",
              "      <td>2016.0</td>\n",
              "      <td>New South Wales</td>\n",
              "      <td>Australia</td>\n",
              "      <td>10.0</td>\n",
              "      <td>Solex</td>\n",
              "    </tr>\n",
              "    <tr>\n",
              "      <th>0</th>\n",
              "      <td>93.0</td>\n",
              "      <td>1953-10-12</td>\n",
              "      <td>Executive Secretary</td>\n",
              "      <td>Health</td>\n",
              "      <td>Mass Customer</td>\n",
              "      <td>N</td>\n",
              "      <td>Yes</td>\n",
              "      <td>11.0</td>\n",
              "      <td>060 Morning Avenue</td>\n",
              "      <td>2016.0</td>\n",
              "      <td>New South Wales</td>\n",
              "      <td>Australia</td>\n",
              "      <td>10.0</td>\n",
              "      <td>Trek Bicycles</td>\n",
              "    </tr>\n",
              "    <tr>\n",
              "      <th>0</th>\n",
              "      <td>93.0</td>\n",
              "      <td>1953-10-12</td>\n",
              "      <td>Executive Secretary</td>\n",
              "      <td>Health</td>\n",
              "      <td>Mass Customer</td>\n",
              "      <td>N</td>\n",
              "      <td>Yes</td>\n",
              "      <td>11.0</td>\n",
              "      <td>060 Morning Avenue</td>\n",
              "      <td>2016.0</td>\n",
              "      <td>New South Wales</td>\n",
              "      <td>Australia</td>\n",
              "      <td>10.0</td>\n",
              "      <td>Norco Bicycles</td>\n",
              "    </tr>\n",
              "    <tr>\n",
              "      <th>0</th>\n",
              "      <td>93.0</td>\n",
              "      <td>1953-10-12</td>\n",
              "      <td>Executive Secretary</td>\n",
              "      <td>Health</td>\n",
              "      <td>Mass Customer</td>\n",
              "      <td>N</td>\n",
              "      <td>Yes</td>\n",
              "      <td>11.0</td>\n",
              "      <td>060 Morning Avenue</td>\n",
              "      <td>2016.0</td>\n",
              "      <td>New South Wales</td>\n",
              "      <td>Australia</td>\n",
              "      <td>10.0</td>\n",
              "      <td>Solex</td>\n",
              "    </tr>\n",
              "  </tbody>\n",
              "</table>\n",
              "</div>\n",
              "      <button class=\"colab-df-convert\" onclick=\"convertToInteractive('df-c9eaa097-14f6-441a-9e49-fd0459f09922')\"\n",
              "              title=\"Convert this dataframe to an interactive table.\"\n",
              "              style=\"display:none;\">\n",
              "        \n",
              "  <svg xmlns=\"http://www.w3.org/2000/svg\" height=\"24px\"viewBox=\"0 0 24 24\"\n",
              "       width=\"24px\">\n",
              "    <path d=\"M0 0h24v24H0V0z\" fill=\"none\"/>\n",
              "    <path d=\"M18.56 5.44l.94 2.06.94-2.06 2.06-.94-2.06-.94-.94-2.06-.94 2.06-2.06.94zm-11 1L8.5 8.5l.94-2.06 2.06-.94-2.06-.94L8.5 2.5l-.94 2.06-2.06.94zm10 10l.94 2.06.94-2.06 2.06-.94-2.06-.94-.94-2.06-.94 2.06-2.06.94z\"/><path d=\"M17.41 7.96l-1.37-1.37c-.4-.4-.92-.59-1.43-.59-.52 0-1.04.2-1.43.59L10.3 9.45l-7.72 7.72c-.78.78-.78 2.05 0 2.83L4 21.41c.39.39.9.59 1.41.59.51 0 1.02-.2 1.41-.59l7.78-7.78 2.81-2.81c.8-.78.8-2.07 0-2.86zM5.41 20L4 18.59l7.72-7.72 1.47 1.35L5.41 20z\"/>\n",
              "  </svg>\n",
              "      </button>\n",
              "      \n",
              "  <style>\n",
              "    .colab-df-container {\n",
              "      display:flex;\n",
              "      flex-wrap:wrap;\n",
              "      gap: 12px;\n",
              "    }\n",
              "\n",
              "    .colab-df-convert {\n",
              "      background-color: #E8F0FE;\n",
              "      border: none;\n",
              "      border-radius: 50%;\n",
              "      cursor: pointer;\n",
              "      display: none;\n",
              "      fill: #1967D2;\n",
              "      height: 32px;\n",
              "      padding: 0 0 0 0;\n",
              "      width: 32px;\n",
              "    }\n",
              "\n",
              "    .colab-df-convert:hover {\n",
              "      background-color: #E2EBFA;\n",
              "      box-shadow: 0px 1px 2px rgba(60, 64, 67, 0.3), 0px 1px 3px 1px rgba(60, 64, 67, 0.15);\n",
              "      fill: #174EA6;\n",
              "    }\n",
              "\n",
              "    [theme=dark] .colab-df-convert {\n",
              "      background-color: #3B4455;\n",
              "      fill: #D2E3FC;\n",
              "    }\n",
              "\n",
              "    [theme=dark] .colab-df-convert:hover {\n",
              "      background-color: #434B5C;\n",
              "      box-shadow: 0px 1px 3px 1px rgba(0, 0, 0, 0.15);\n",
              "      filter: drop-shadow(0px 1px 2px rgba(0, 0, 0, 0.3));\n",
              "      fill: #FFFFFF;\n",
              "    }\n",
              "  </style>\n",
              "\n",
              "      <script>\n",
              "        const buttonEl =\n",
              "          document.querySelector('#df-c9eaa097-14f6-441a-9e49-fd0459f09922 button.colab-df-convert');\n",
              "        buttonEl.style.display =\n",
              "          google.colab.kernel.accessAllowed ? 'block' : 'none';\n",
              "\n",
              "        async function convertToInteractive(key) {\n",
              "          const element = document.querySelector('#df-c9eaa097-14f6-441a-9e49-fd0459f09922');\n",
              "          const dataTable =\n",
              "            await google.colab.kernel.invokeFunction('convertToInteractive',\n",
              "                                                     [key], {});\n",
              "          if (!dataTable) return;\n",
              "\n",
              "          const docLinkHtml = 'Like what you see? Visit the ' +\n",
              "            '<a target=\"_blank\" href=https://colab.research.google.com/notebooks/data_table.ipynb>data table notebook</a>'\n",
              "            + ' to learn more about interactive tables.';\n",
              "          element.innerHTML = '';\n",
              "          dataTable['output_type'] = 'display_data';\n",
              "          await google.colab.output.renderOutput(dataTable, element);\n",
              "          const docLink = document.createElement('div');\n",
              "          docLink.innerHTML = docLinkHtml;\n",
              "          element.appendChild(docLink);\n",
              "        }\n",
              "      </script>\n",
              "    </div>\n",
              "  </div>\n",
              "  "
            ]
          },
          "metadata": {},
          "execution_count": 16
        }
      ]
    },
    {
      "cell_type": "code",
      "source": [
        "data_cls.info()"
      ],
      "metadata": {
        "colab": {
          "base_uri": "https://localhost:8080/"
        },
        "id": "0jMYnJkWFvNP",
        "outputId": "fb6a6151-8017-4f9c-e098-009261b77f17"
      },
      "execution_count": 17,
      "outputs": [
        {
          "output_type": "stream",
          "name": "stdout",
          "text": [
            "<class 'pandas.core.frame.DataFrame'>\n",
            "Int64Index: 20504 entries, 0 to 3999\n",
            "Data columns (total 14 columns):\n",
            " #   Column                               Non-Null Count  Dtype         \n",
            "---  ------                               --------------  -----         \n",
            " 0   past_3_years_bike_related_purchases  20504 non-null  float64       \n",
            " 1   DOB                                  20047 non-null  datetime64[ns]\n",
            " 2   job_title                            18027 non-null  object        \n",
            " 3   job_industry_category                17180 non-null  object        \n",
            " 4   wealth_segment                       20504 non-null  object        \n",
            " 5   deceased_indicator                   20504 non-null  object        \n",
            " 6   owns_car                             20504 non-null  object        \n",
            " 7   tenure                               20047 non-null  float64       \n",
            " 8   address                              20475 non-null  object        \n",
            " 9   postcode                             20475 non-null  float64       \n",
            " 10  state                                20475 non-null  object        \n",
            " 11  country                              20475 non-null  object        \n",
            " 12  property_valuation                   20475 non-null  float64       \n",
            " 13  brand                                19800 non-null  object        \n",
            "dtypes: datetime64[ns](1), float64(4), object(9)\n",
            "memory usage: 2.3+ MB\n"
          ]
        }
      ]
    },
    {
      "cell_type": "markdown",
      "source": [
        "Delete the record which the **brand** var is null"
      ],
      "metadata": {
        "id": "Z9YBK3BlIKP4"
      }
    },
    {
      "cell_type": "code",
      "source": [
        "data_cls = data_cls.dropna(subset=['brand'], axis=0)\n",
        "data_cls.info()"
      ],
      "metadata": {
        "colab": {
          "base_uri": "https://localhost:8080/"
        },
        "id": "uy1Lux4bIUbv",
        "outputId": "94906d0a-9811-4f2a-d17f-af1710b77b53"
      },
      "execution_count": 18,
      "outputs": [
        {
          "output_type": "stream",
          "name": "stdout",
          "text": [
            "<class 'pandas.core.frame.DataFrame'>\n",
            "Int64Index: 19800 entries, 0 to 3499\n",
            "Data columns (total 14 columns):\n",
            " #   Column                               Non-Null Count  Dtype         \n",
            "---  ------                               --------------  -----         \n",
            " 0   past_3_years_bike_related_purchases  19800 non-null  float64       \n",
            " 1   DOB                                  19362 non-null  datetime64[ns]\n",
            " 2   job_title                            17436 non-null  object        \n",
            " 3   job_industry_category                16602 non-null  object        \n",
            " 4   wealth_segment                       19800 non-null  object        \n",
            " 5   deceased_indicator                   19800 non-null  object        \n",
            " 6   owns_car                             19800 non-null  object        \n",
            " 7   tenure                               19362 non-null  float64       \n",
            " 8   address                              19773 non-null  object        \n",
            " 9   postcode                             19773 non-null  float64       \n",
            " 10  state                                19773 non-null  object        \n",
            " 11  country                              19773 non-null  object        \n",
            " 12  property_valuation                   19773 non-null  float64       \n",
            " 13  brand                                19800 non-null  object        \n",
            "dtypes: datetime64[ns](1), float64(4), object(9)\n",
            "memory usage: 2.3+ MB\n"
          ]
        }
      ]
    },
    {
      "cell_type": "markdown",
      "source": [
        "It's good to process the data of number type at first since the number of var is less than categorical"
      ],
      "metadata": {
        "id": "OjH9E2mgJxA2"
      }
    },
    {
      "cell_type": "code",
      "source": [
        "data_cls.describe()"
      ],
      "metadata": {
        "colab": {
          "base_uri": "https://localhost:8080/",
          "height": 300
        },
        "id": "pmE1Iz4BKD4u",
        "outputId": "d0d5229f-8ab5-488c-b214-20e7cedda2a7"
      },
      "execution_count": 19,
      "outputs": [
        {
          "output_type": "execute_result",
          "data": {
            "text/plain": [
              "       past_3_years_bike_related_purchases        tenure      postcode  \\\n",
              "count                         19800.000000  19362.000000  19773.000000   \n",
              "mean                             48.799192     10.685673   2988.894250   \n",
              "std                              28.591006      5.675992    851.174906   \n",
              "min                               0.000000      1.000000   2000.000000   \n",
              "25%                              24.000000      6.000000   2200.000000   \n",
              "50%                              48.000000     11.000000   2768.000000   \n",
              "75%                              73.000000     15.000000   3754.000000   \n",
              "max                              99.000000     22.000000   4883.000000   \n",
              "\n",
              "       property_valuation  \n",
              "count        19773.000000  \n",
              "mean             7.515400  \n",
              "std              2.825641  \n",
              "min              1.000000  \n",
              "25%              6.000000  \n",
              "50%              8.000000  \n",
              "75%             10.000000  \n",
              "max             12.000000  "
            ],
            "text/html": [
              "\n",
              "  <div id=\"df-0ebd1fdd-b126-4782-b2c6-4352dff1671e\">\n",
              "    <div class=\"colab-df-container\">\n",
              "      <div>\n",
              "<style scoped>\n",
              "    .dataframe tbody tr th:only-of-type {\n",
              "        vertical-align: middle;\n",
              "    }\n",
              "\n",
              "    .dataframe tbody tr th {\n",
              "        vertical-align: top;\n",
              "    }\n",
              "\n",
              "    .dataframe thead th {\n",
              "        text-align: right;\n",
              "    }\n",
              "</style>\n",
              "<table border=\"1\" class=\"dataframe\">\n",
              "  <thead>\n",
              "    <tr style=\"text-align: right;\">\n",
              "      <th></th>\n",
              "      <th>past_3_years_bike_related_purchases</th>\n",
              "      <th>tenure</th>\n",
              "      <th>postcode</th>\n",
              "      <th>property_valuation</th>\n",
              "    </tr>\n",
              "  </thead>\n",
              "  <tbody>\n",
              "    <tr>\n",
              "      <th>count</th>\n",
              "      <td>19800.000000</td>\n",
              "      <td>19362.000000</td>\n",
              "      <td>19773.000000</td>\n",
              "      <td>19773.000000</td>\n",
              "    </tr>\n",
              "    <tr>\n",
              "      <th>mean</th>\n",
              "      <td>48.799192</td>\n",
              "      <td>10.685673</td>\n",
              "      <td>2988.894250</td>\n",
              "      <td>7.515400</td>\n",
              "    </tr>\n",
              "    <tr>\n",
              "      <th>std</th>\n",
              "      <td>28.591006</td>\n",
              "      <td>5.675992</td>\n",
              "      <td>851.174906</td>\n",
              "      <td>2.825641</td>\n",
              "    </tr>\n",
              "    <tr>\n",
              "      <th>min</th>\n",
              "      <td>0.000000</td>\n",
              "      <td>1.000000</td>\n",
              "      <td>2000.000000</td>\n",
              "      <td>1.000000</td>\n",
              "    </tr>\n",
              "    <tr>\n",
              "      <th>25%</th>\n",
              "      <td>24.000000</td>\n",
              "      <td>6.000000</td>\n",
              "      <td>2200.000000</td>\n",
              "      <td>6.000000</td>\n",
              "    </tr>\n",
              "    <tr>\n",
              "      <th>50%</th>\n",
              "      <td>48.000000</td>\n",
              "      <td>11.000000</td>\n",
              "      <td>2768.000000</td>\n",
              "      <td>8.000000</td>\n",
              "    </tr>\n",
              "    <tr>\n",
              "      <th>75%</th>\n",
              "      <td>73.000000</td>\n",
              "      <td>15.000000</td>\n",
              "      <td>3754.000000</td>\n",
              "      <td>10.000000</td>\n",
              "    </tr>\n",
              "    <tr>\n",
              "      <th>max</th>\n",
              "      <td>99.000000</td>\n",
              "      <td>22.000000</td>\n",
              "      <td>4883.000000</td>\n",
              "      <td>12.000000</td>\n",
              "    </tr>\n",
              "  </tbody>\n",
              "</table>\n",
              "</div>\n",
              "      <button class=\"colab-df-convert\" onclick=\"convertToInteractive('df-0ebd1fdd-b126-4782-b2c6-4352dff1671e')\"\n",
              "              title=\"Convert this dataframe to an interactive table.\"\n",
              "              style=\"display:none;\">\n",
              "        \n",
              "  <svg xmlns=\"http://www.w3.org/2000/svg\" height=\"24px\"viewBox=\"0 0 24 24\"\n",
              "       width=\"24px\">\n",
              "    <path d=\"M0 0h24v24H0V0z\" fill=\"none\"/>\n",
              "    <path d=\"M18.56 5.44l.94 2.06.94-2.06 2.06-.94-2.06-.94-.94-2.06-.94 2.06-2.06.94zm-11 1L8.5 8.5l.94-2.06 2.06-.94-2.06-.94L8.5 2.5l-.94 2.06-2.06.94zm10 10l.94 2.06.94-2.06 2.06-.94-2.06-.94-.94-2.06-.94 2.06-2.06.94z\"/><path d=\"M17.41 7.96l-1.37-1.37c-.4-.4-.92-.59-1.43-.59-.52 0-1.04.2-1.43.59L10.3 9.45l-7.72 7.72c-.78.78-.78 2.05 0 2.83L4 21.41c.39.39.9.59 1.41.59.51 0 1.02-.2 1.41-.59l7.78-7.78 2.81-2.81c.8-.78.8-2.07 0-2.86zM5.41 20L4 18.59l7.72-7.72 1.47 1.35L5.41 20z\"/>\n",
              "  </svg>\n",
              "      </button>\n",
              "      \n",
              "  <style>\n",
              "    .colab-df-container {\n",
              "      display:flex;\n",
              "      flex-wrap:wrap;\n",
              "      gap: 12px;\n",
              "    }\n",
              "\n",
              "    .colab-df-convert {\n",
              "      background-color: #E8F0FE;\n",
              "      border: none;\n",
              "      border-radius: 50%;\n",
              "      cursor: pointer;\n",
              "      display: none;\n",
              "      fill: #1967D2;\n",
              "      height: 32px;\n",
              "      padding: 0 0 0 0;\n",
              "      width: 32px;\n",
              "    }\n",
              "\n",
              "    .colab-df-convert:hover {\n",
              "      background-color: #E2EBFA;\n",
              "      box-shadow: 0px 1px 2px rgba(60, 64, 67, 0.3), 0px 1px 3px 1px rgba(60, 64, 67, 0.15);\n",
              "      fill: #174EA6;\n",
              "    }\n",
              "\n",
              "    [theme=dark] .colab-df-convert {\n",
              "      background-color: #3B4455;\n",
              "      fill: #D2E3FC;\n",
              "    }\n",
              "\n",
              "    [theme=dark] .colab-df-convert:hover {\n",
              "      background-color: #434B5C;\n",
              "      box-shadow: 0px 1px 3px 1px rgba(0, 0, 0, 0.15);\n",
              "      filter: drop-shadow(0px 1px 2px rgba(0, 0, 0, 0.3));\n",
              "      fill: #FFFFFF;\n",
              "    }\n",
              "  </style>\n",
              "\n",
              "      <script>\n",
              "        const buttonEl =\n",
              "          document.querySelector('#df-0ebd1fdd-b126-4782-b2c6-4352dff1671e button.colab-df-convert');\n",
              "        buttonEl.style.display =\n",
              "          google.colab.kernel.accessAllowed ? 'block' : 'none';\n",
              "\n",
              "        async function convertToInteractive(key) {\n",
              "          const element = document.querySelector('#df-0ebd1fdd-b126-4782-b2c6-4352dff1671e');\n",
              "          const dataTable =\n",
              "            await google.colab.kernel.invokeFunction('convertToInteractive',\n",
              "                                                     [key], {});\n",
              "          if (!dataTable) return;\n",
              "\n",
              "          const docLinkHtml = 'Like what you see? Visit the ' +\n",
              "            '<a target=\"_blank\" href=https://colab.research.google.com/notebooks/data_table.ipynb>data table notebook</a>'\n",
              "            + ' to learn more about interactive tables.';\n",
              "          element.innerHTML = '';\n",
              "          dataTable['output_type'] = 'display_data';\n",
              "          await google.colab.output.renderOutput(dataTable, element);\n",
              "          const docLink = document.createElement('div');\n",
              "          docLink.innerHTML = docLinkHtml;\n",
              "          element.appendChild(docLink);\n",
              "        }\n",
              "      </script>\n",
              "    </div>\n",
              "  </div>\n",
              "  "
            ]
          },
          "metadata": {},
          "execution_count": 19
        }
      ]
    },
    {
      "cell_type": "markdown",
      "source": [
        "#### Process the Numerical/Date var"
      ],
      "metadata": {
        "id": "_Dl53equOX0N"
      }
    },
    {
      "cell_type": "markdown",
      "source": [
        "Transfer the Date to Age\n"
      ],
      "metadata": {
        "id": "233ekv6tWF4g"
      }
    },
    {
      "cell_type": "code",
      "source": [
        "data_cls['age'] = 2022 - data_cls['DOB'].dt.year\n",
        "data_cls = data_cls.drop(labels='DOB',axis=1)"
      ],
      "metadata": {
        "id": "aR2hqakdLi3J"
      },
      "execution_count": 20,
      "outputs": []
    },
    {
      "cell_type": "code",
      "source": [
        "sns.distplot(data_cls.tenure)"
      ],
      "metadata": {
        "colab": {
          "base_uri": "https://localhost:8080/",
          "height": 351
        },
        "id": "Q6tLRedrS3is",
        "outputId": "73739bbd-722e-47d3-d2c7-5b07bee39fbf"
      },
      "execution_count": 32,
      "outputs": [
        {
          "output_type": "stream",
          "name": "stderr",
          "text": [
            "/usr/local/lib/python3.7/dist-packages/seaborn/distributions.py:2619: FutureWarning: `distplot` is a deprecated function and will be removed in a future version. Please adapt your code to use either `displot` (a figure-level function with similar flexibility) or `histplot` (an axes-level function for histograms).\n",
            "  warnings.warn(msg, FutureWarning)\n"
          ]
        },
        {
          "output_type": "execute_result",
          "data": {
            "text/plain": [
              "<matplotlib.axes._subplots.AxesSubplot at 0x7ff824f61910>"
            ]
          },
          "metadata": {},
          "execution_count": 32
        },
        {
          "output_type": "display_data",
          "data": {
            "text/plain": [
              "<Figure size 432x288 with 1 Axes>"
            ],
            "image/png": "[encoded data removed]"
          },
          "metadata": {
            "needs_background": "light"
          }
        }
      ]
    },
    {
      "cell_type": "code",
      "source": [
        "sns.distplot(data_cls.property_valuation)"
      ],
      "metadata": {
        "colab": {
          "base_uri": "https://localhost:8080/",
          "height": 354
        },
        "id": "-kG-CubATHwv",
        "outputId": "797576f5-17e9-41ef-c07e-d3caa4b47476"
      },
      "execution_count": 33,
      "outputs": [
        {
          "output_type": "stream",
          "name": "stderr",
          "text": [
            "/usr/local/lib/python3.7/dist-packages/seaborn/distributions.py:2619: FutureWarning: `distplot` is a deprecated function and will be removed in a future version. Please adapt your code to use either `displot` (a figure-level function with similar flexibility) or `histplot` (an axes-level function for histograms).\n",
            "  warnings.warn(msg, FutureWarning)\n"
          ]
        },
        {
          "output_type": "execute_result",
          "data": {
            "text/plain": [
              "<matplotlib.axes._subplots.AxesSubplot at 0x7ff824faa790>"
            ]
          },
          "metadata": {},
          "execution_count": 33
        },
        {
          "output_type": "display_data",
          "data": {
            "text/plain": [
              "<Figure size 432x288 with 1 Axes>"
            ],
            "image/png": "[encoded data removed]"
          },
          "metadata": {
            "needs_background": "light"
          }
        }
      ]
    },
    {
      "cell_type": "code",
      "source": [
        "sns.distplot(data_cls.postcode)"
      ],
      "metadata": {
        "colab": {
          "base_uri": "https://localhost:8080/",
          "height": 351
        },
        "id": "z-asR2OpTMrM",
        "outputId": "0744956c-2281-494d-da4d-1af98a061b44"
      },
      "execution_count": 29,
      "outputs": [
        {
          "output_type": "stream",
          "name": "stderr",
          "text": [
            "/usr/local/lib/python3.7/dist-packages/seaborn/distributions.py:2619: FutureWarning: `distplot` is a deprecated function and will be removed in a future version. Please adapt your code to use either `displot` (a figure-level function with similar flexibility) or `histplot` (an axes-level function for histograms).\n",
            "  warnings.warn(msg, FutureWarning)\n"
          ]
        },
        {
          "output_type": "execute_result",
          "data": {
            "text/plain": [
              "<matplotlib.axes._subplots.AxesSubplot at 0x7ff824ff7550>"
            ]
          },
          "metadata": {},
          "execution_count": 29
        },
        {
          "output_type": "display_data",
          "data": {
            "text/plain": [
              "<Figure size 432x288 with 1 Axes>"
            ],
            "image/png": "[encoded data removed]"
          },
          "metadata": {
            "needs_background": "light"
          }
        }
      ]
    },
    {
      "cell_type": "markdown",
      "source": [
        "Use mean imputation to impute tenure and property_valuation vars\n"
      ],
      "metadata": {
        "id": "o-kOuLRqWDDm"
      }
    },
    {
      "cell_type": "code",
      "source": [
        "data_cls['tenure'].fillna(value=data_cls['tenure'].mean(), axis=0, inplace=True)\n",
        "data_cls['property_valuation'].fillna(value=data_cls['property_valuation'].mean(), axis=0, inplace=True)"
      ],
      "metadata": {
        "id": "-prjnq27OkUj"
      },
      "execution_count": 30,
      "outputs": []
    },
    {
      "cell_type": "markdown",
      "source": [
        "It's better to say postcode is a categorical var instead of numerical var "
      ],
      "metadata": {
        "id": "4D_8V5UTWNSq"
      }
    },
    {
      "cell_type": "code",
      "source": [
        ""
      ],
      "metadata": {
        "id": "GPyPzqY3WAnq"
      },
      "execution_count": null,
      "outputs": []
    },
    {
      "cell_type": "markdown",
      "metadata": {
        "id": "W_OdR8EwabHZ"
      },
      "source": [
        "### Preprocess the data for Regression"
      ]
    },
    {
      "cell_type": "code",
      "execution_count": 15,
      "metadata": {
        "id": "u69I3VStaOkO",
        "colab": {
          "base_uri": "https://localhost:8080/"
        },
        "outputId": "fee976b9-6206-4326-c1b9-e5bbc6895825"
      },
      "outputs": [
        {
          "output_type": "stream",
          "name": "stdout",
          "text": [
            "['customer_id', 'default', 'transaction_id', 'product_id', 'transaction_date', 'online_order', 'order_status', 'brand', 'product_line', 'product_class', 'product_size', 'list_price', 'standard_cost', 'product_first_sold_date']\n"
          ]
        }
      ],
      "source": [
        "# Select the columns used for droping\n",
        "col_drop_reg = fulldata_col_notin_ncl.copy()\n",
        "col_drop_reg.remove('list_price')"
      ]
    },
    {
      "cell_type": "code",
      "source": [
        "data_reg = full_data.drop(labels=col_drop_reg, axis=1)"
      ],
      "metadata": {
        "id": "Q-mauDgi8AHi"
      },
      "execution_count": 17,
      "outputs": []
    },
    {
      "cell_type": "code",
      "source": [
        "print(data_reg.shape)\n",
        "test_col = [col for col in data_reg.columns if col not in new_customer_list.columns]\n",
        "print(test_col)"
      ],
      "metadata": {
        "colab": {
          "base_uri": "https://localhost:8080/"
        },
        "id": "darDXMlsB-RM",
        "outputId": "367a5b25-93ff-425e-f3e8-49de437510f7"
      },
      "execution_count": 19,
      "outputs": [
        {
          "output_type": "stream",
          "name": "stdout",
          "text": [
            "(20504, 17)\n",
            "['list_price']\n"
          ]
        }
      ]
    },
    {
      "cell_type": "code",
      "source": [
        "data_reg.head()"
      ],
      "metadata": {
        "colab": {
          "base_uri": "https://localhost:8080/",
          "height": 443
        },
        "id": "6sdlvDjOAEKF",
        "outputId": "a638db18-24be-4dc9-da6a-d13f4016e0b5"
      },
      "execution_count": 18,
      "outputs": [
        {
          "output_type": "execute_result",
          "data": {
            "text/plain": [
              "  first_name  last_name gender  past_3_years_bike_related_purchases  \\\n",
              "0    Laraine  Medendorp      F                                   93   \n",
              "0    Laraine  Medendorp      F                                   93   \n",
              "0    Laraine  Medendorp      F                                   93   \n",
              "0    Laraine  Medendorp      F                                   93   \n",
              "0    Laraine  Medendorp      F                                   93   \n",
              "\n",
              "         DOB            job_title job_industry_category wealth_segment  \\\n",
              "0 1953-10-12  Executive Secretary                Health  Mass Customer   \n",
              "0 1953-10-12  Executive Secretary                Health  Mass Customer   \n",
              "0 1953-10-12  Executive Secretary                Health  Mass Customer   \n",
              "0 1953-10-12  Executive Secretary                Health  Mass Customer   \n",
              "0 1953-10-12  Executive Secretary                Health  Mass Customer   \n",
              "\n",
              "  deceased_indicator owns_car  tenure             address  postcode  \\\n",
              "0                  N      Yes    11.0  060 Morning Avenue    2016.0   \n",
              "0                  N      Yes    11.0  060 Morning Avenue    2016.0   \n",
              "0                  N      Yes    11.0  060 Morning Avenue    2016.0   \n",
              "0                  N      Yes    11.0  060 Morning Avenue    2016.0   \n",
              "0                  N      Yes    11.0  060 Morning Avenue    2016.0   \n",
              "\n",
              "             state    country  property_valuation  list_price  \n",
              "0  New South Wales  Australia                10.0      235.63  \n",
              "0  New South Wales  Australia                10.0     1577.53  \n",
              "0  New South Wales  Australia                10.0     1720.70  \n",
              "0  New South Wales  Australia                10.0      360.40  \n",
              "0  New South Wales  Australia                10.0       71.49  "
            ],
            "text/html": [
              "\n",
              "  <div id=\"df-b4f9270f-ca54-46b9-8391-4af130c20956\">\n",
              "    <div class=\"colab-df-container\">\n",
              "      <div>\n",
              "<style scoped>\n",
              "    .dataframe tbody tr th:only-of-type {\n",
              "        vertical-align: middle;\n",
              "    }\n",
              "\n",
              "    .dataframe tbody tr th {\n",
              "        vertical-align: top;\n",
              "    }\n",
              "\n",
              "    .dataframe thead th {\n",
              "        text-align: right;\n",
              "    }\n",
              "</style>\n",
              "<table border=\"1\" class=\"dataframe\">\n",
              "  <thead>\n",
              "    <tr style=\"text-align: right;\">\n",
              "      <th></th>\n",
              "      <th>first_name</th>\n",
              "      <th>last_name</th>\n",
              "      <th>gender</th>\n",
              "      <th>past_3_years_bike_related_purchases</th>\n",
              "      <th>DOB</th>\n",
              "      <th>job_title</th>\n",
              "      <th>job_industry_category</th>\n",
              "      <th>wealth_segment</th>\n",
              "      <th>deceased_indicator</th>\n",
              "      <th>owns_car</th>\n",
              "      <th>tenure</th>\n",
              "      <th>address</th>\n",
              "      <th>postcode</th>\n",
              "      <th>state</th>\n",
              "      <th>country</th>\n",
              "      <th>property_valuation</th>\n",
              "      <th>list_price</th>\n",
              "    </tr>\n",
              "  </thead>\n",
              "  <tbody>\n",
              "    <tr>\n",
              "      <th>0</th>\n",
              "      <td>Laraine</td>\n",
              "      <td>Medendorp</td>\n",
              "      <td>F</td>\n",
              "      <td>93</td>\n",
              "      <td>1953-10-12</td>\n",
              "      <td>Executive Secretary</td>\n",
              "      <td>Health</td>\n",
              "      <td>Mass Customer</td>\n",
              "      <td>N</td>\n",
              "      <td>Yes</td>\n",
              "      <td>11.0</td>\n",
              "      <td>060 Morning Avenue</td>\n",
              "      <td>2016.0</td>\n",
              "      <td>New South Wales</td>\n",
              "      <td>Australia</td>\n",
              "      <td>10.0</td>\n",
              "      <td>235.63</td>\n",
              "    </tr>\n",
              "    <tr>\n",
              "      <th>0</th>\n",
              "      <td>Laraine</td>\n",
              "      <td>Medendorp</td>\n",
              "      <td>F</td>\n",
              "      <td>93</td>\n",
              "      <td>1953-10-12</td>\n",
              "      <td>Executive Secretary</td>\n",
              "      <td>Health</td>\n",
              "      <td>Mass Customer</td>\n",
              "      <td>N</td>\n",
              "      <td>Yes</td>\n",
              "      <td>11.0</td>\n",
              "      <td>060 Morning Avenue</td>\n",
              "      <td>2016.0</td>\n",
              "      <td>New South Wales</td>\n",
              "      <td>Australia</td>\n",
              "      <td>10.0</td>\n",
              "      <td>1577.53</td>\n",
              "    </tr>\n",
              "    <tr>\n",
              "      <th>0</th>\n",
              "      <td>Laraine</td>\n",
              "      <td>Medendorp</td>\n",
              "      <td>F</td>\n",
              "      <td>93</td>\n",
              "      <td>1953-10-12</td>\n",
              "      <td>Executive Secretary</td>\n",
              "      <td>Health</td>\n",
              "      <td>Mass Customer</td>\n",
              "      <td>N</td>\n",
              "      <td>Yes</td>\n",
              "      <td>11.0</td>\n",
              "      <td>060 Morning Avenue</td>\n",
              "      <td>2016.0</td>\n",
              "      <td>New South Wales</td>\n",
              "      <td>Australia</td>\n",
              "      <td>10.0</td>\n",
              "      <td>1720.70</td>\n",
              "    </tr>\n",
              "    <tr>\n",
              "      <th>0</th>\n",
              "      <td>Laraine</td>\n",
              "      <td>Medendorp</td>\n",
              "      <td>F</td>\n",
              "      <td>93</td>\n",
              "      <td>1953-10-12</td>\n",
              "      <td>Executive Secretary</td>\n",
              "      <td>Health</td>\n",
              "      <td>Mass Customer</td>\n",
              "      <td>N</td>\n",
              "      <td>Yes</td>\n",
              "      <td>11.0</td>\n",
              "      <td>060 Morning Avenue</td>\n",
              "      <td>2016.0</td>\n",
              "      <td>New South Wales</td>\n",
              "      <td>Australia</td>\n",
              "      <td>10.0</td>\n",
              "      <td>360.40</td>\n",
              "    </tr>\n",
              "    <tr>\n",
              "      <th>0</th>\n",
              "      <td>Laraine</td>\n",
              "      <td>Medendorp</td>\n",
              "      <td>F</td>\n",
              "      <td>93</td>\n",
              "      <td>1953-10-12</td>\n",
              "      <td>Executive Secretary</td>\n",
              "      <td>Health</td>\n",
              "      <td>Mass Customer</td>\n",
              "      <td>N</td>\n",
              "      <td>Yes</td>\n",
              "      <td>11.0</td>\n",
              "      <td>060 Morning Avenue</td>\n",
              "      <td>2016.0</td>\n",
              "      <td>New South Wales</td>\n",
              "      <td>Australia</td>\n",
              "      <td>10.0</td>\n",
              "      <td>71.49</td>\n",
              "    </tr>\n",
              "  </tbody>\n",
              "</table>\n",
              "</div>\n",
              "      <button class=\"colab-df-convert\" onclick=\"convertToInteractive('df-b4f9270f-ca54-46b9-8391-4af130c20956')\"\n",
              "              title=\"Convert this dataframe to an interactive table.\"\n",
              "              style=\"display:none;\">\n",
              "        \n",
              "  <svg xmlns=\"http://www.w3.org/2000/svg\" height=\"24px\"viewBox=\"0 0 24 24\"\n",
              "       width=\"24px\">\n",
              "    <path d=\"M0 0h24v24H0V0z\" fill=\"none\"/>\n",
              "    <path d=\"M18.56 5.44l.94 2.06.94-2.06 2.06-.94-2.06-.94-.94-2.06-.94 2.06-2.06.94zm-11 1L8.5 8.5l.94-2.06 2.06-.94-2.06-.94L8.5 2.5l-.94 2.06-2.06.94zm10 10l.94 2.06.94-2.06 2.06-.94-2.06-.94-.94-2.06-.94 2.06-2.06.94z\"/><path d=\"M17.41 7.96l-1.37-1.37c-.4-.4-.92-.59-1.43-.59-.52 0-1.04.2-1.43.59L10.3 9.45l-7.72 7.72c-.78.78-.78 2.05 0 2.83L4 21.41c.39.39.9.59 1.41.59.51 0 1.02-.2 1.41-.59l7.78-7.78 2.81-2.81c.8-.78.8-2.07 0-2.86zM5.41 20L4 18.59l7.72-7.72 1.47 1.35L5.41 20z\"/>\n",
              "  </svg>\n",
              "      </button>\n",
              "      \n",
              "  <style>\n",
              "    .colab-df-container {\n",
              "      display:flex;\n",
              "      flex-wrap:wrap;\n",
              "      gap: 12px;\n",
              "    }\n",
              "\n",
              "    .colab-df-convert {\n",
              "      background-color: #E8F0FE;\n",
              "      border: none;\n",
              "      border-radius: 50%;\n",
              "      cursor: pointer;\n",
              "      display: none;\n",
              "      fill: #1967D2;\n",
              "      height: 32px;\n",
              "      padding: 0 0 0 0;\n",
              "      width: 32px;\n",
              "    }\n",
              "\n",
              "    .colab-df-convert:hover {\n",
              "      background-color: #E2EBFA;\n",
              "      box-shadow: 0px 1px 2px rgba(60, 64, 67, 0.3), 0px 1px 3px 1px rgba(60, 64, 67, 0.15);\n",
              "      fill: #174EA6;\n",
              "    }\n",
              "\n",
              "    [theme=dark] .colab-df-convert {\n",
              "      background-color: #3B4455;\n",
              "      fill: #D2E3FC;\n",
              "    }\n",
              "\n",
              "    [theme=dark] .colab-df-convert:hover {\n",
              "      background-color: #434B5C;\n",
              "      box-shadow: 0px 1px 3px 1px rgba(0, 0, 0, 0.15);\n",
              "      filter: drop-shadow(0px 1px 2px rgba(0, 0, 0, 0.3));\n",
              "      fill: #FFFFFF;\n",
              "    }\n",
              "  </style>\n",
              "\n",
              "      <script>\n",
              "        const buttonEl =\n",
              "          document.querySelector('#df-b4f9270f-ca54-46b9-8391-4af130c20956 button.colab-df-convert');\n",
              "        buttonEl.style.display =\n",
              "          google.colab.kernel.accessAllowed ? 'block' : 'none';\n",
              "\n",
              "        async function convertToInteractive(key) {\n",
              "          const element = document.querySelector('#df-b4f9270f-ca54-46b9-8391-4af130c20956');\n",
              "          const dataTable =\n",
              "            await google.colab.kernel.invokeFunction('convertToInteractive',\n",
              "                                                     [key], {});\n",
              "          if (!dataTable) return;\n",
              "\n",
              "          const docLinkHtml = 'Like what you see? Visit the ' +\n",
              "            '<a target=\"_blank\" href=https://colab.research.google.com/notebooks/data_table.ipynb>data table notebook</a>'\n",
              "            + ' to learn more about interactive tables.';\n",
              "          element.innerHTML = '';\n",
              "          dataTable['output_type'] = 'display_data';\n",
              "          await google.colab.output.renderOutput(dataTable, element);\n",
              "          const docLink = document.createElement('div');\n",
              "          docLink.innerHTML = docLinkHtml;\n",
              "          element.appendChild(docLink);\n",
              "        }\n",
              "      </script>\n",
              "    </div>\n",
              "  </div>\n",
              "  "
            ]
          },
          "metadata": {},
          "execution_count": 18
        }
      ]
    },
    {
      "cell_type": "markdown",
      "metadata": {
        "id": "eoQs1KBp_wnV"
      },
      "source": [
        "Column No Need For Training\n",
        "\n",
        "first_name, last_name, default"
      ]
    },
    {
      "cell_type": "code",
      "execution_count": null,
      "metadata": {
        "id": "Cd0nBJWF-wD7"
      },
      "outputs": [],
      "source": [
        "full_data.info()"
      ]
    },
    {
      "cell_type": "code",
      "execution_count": null,
      "metadata": {
        "id": "nym65pp7AMNm"
      },
      "outputs": [],
      "source": [
        "# col_in_fulldata is col should be used to train model\n",
        "col_in_fulldata = [col for col in full_data.columns if col in new_customer_list.columns]\n",
        "print(col_in_fulldata, len(col_in_fulldata))\n",
        "print(new_customer_list.shape)"
      ]
    },
    {
      "cell_type": "code",
      "execution_count": null,
      "metadata": {
        "id": "D6oNRvIACA4a"
      },
      "outputs": [],
      "source": [
        "col_drop = [col for col in full_data.columns if col not in col_in_fulldata]\n",
        "print(col_drop, len(col_drop))"
      ]
    },
    {
      "cell_type": "code",
      "execution_count": null,
      "metadata": {
        "id": "AbwpnWGsg__S"
      },
      "outputs": [],
      "source": [
        ""
      ]
    },
    {
      "cell_type": "markdown",
      "metadata": {
        "id": "xp4dkMN_0qE8"
      },
      "source": [
        "In this project, I'm going to use classification machine learning algorithm to output the proper customer segmentation\n",
        "\n",
        "First step is to seek what features the \"NewCustomerList\" dataset has"
      ]
    },
    {
      "cell_type": "code",
      "execution_count": null,
      "metadata": {
        "colab": {
          "base_uri": "https://localhost:8080/"
        },
        "id": "SE0ui6vb0hUm",
        "outputId": "83e5e7ae-28c1-41fc-bc41-c56cd5c9161e"
      },
      "outputs": [
        {
          "data": {
            "text/plain": [
              "Index(['transaction_id', 'product_id', 'customer_id', 'transaction_date',\n",
              "       'online_order', 'order_status', 'brand', 'product_line',\n",
              "       'product_class', 'product_size', 'list_price', 'standard_cost',\n",
              "       'product_first_sold_date'],\n",
              "      dtype='object')"
            ]
          },
          "execution_count": 3,
          "metadata": {},
          "output_type": "execute_result"
        }
      ],
      "source": [
        "col_new_cus_list = new_customer_list.columns\n",
        "col_new_cus_list"
      ]
    },
    {
      "cell_type": "code",
      "execution_count": null,
      "metadata": {
        "id": "z0G6linJrttd"
      },
      "outputs": [],
      "source": [
        "# wanted_new_cus_list = new_customer_list.drop(labels=['Unnamed: 16', 'Unnamed: 17', 'Unnamed: 18',\n",
        "#        'Unnamed: 19', 'Unnamed: 20'], axis=1)\n",
        "# wanted_new_cus_list.head()"
      ]
    },
    {
      "cell_type": "code",
      "execution_count": null,
      "metadata": {
        "id": "zDMw9p-JtsXf"
      },
      "outputs": [],
      "source": [
        "# print(wanted_new_cus_list.columns, len(wanted_new_cus_list.columns))"
      ]
    },
    {
      "cell_type": "markdown",
      "metadata": {
        "id": "y-4PCRxh9z-a"
      },
      "source": [
        "The customer name should help nothing with our modeling, so it should be droped\n",
        "\n",
        "But as for gender, we should find out is there any correlation between it and target value in trainning dataset"
      ]
    },
    {
      "cell_type": "code",
      "execution_count": null,
      "metadata": {
        "id": "drwskMq79_5C"
      },
      "outputs": [],
      "source": [
        "# wanted_new_cus_list = wanted_new_cus_list.drop(labels=['first_name', 'last_name'], axis=1)\n",
        "# wanted_new_cus_list.columns"
      ]
    },
    {
      "cell_type": "markdown",
      "metadata": {
        "id": "QbNYr_Ok-j1N"
      },
      "source": [
        "We should join other 3 datasets together to find same features which could be used in the trainning\n",
        "\n",
        "we can find:\n",
        "\n",
        "* CustomerDemographic: ['customer_id', 'gender', 'past_3_years_bike_related_purchases', 'DOB', 'job_title', 'job_industry_category', 'wealth_segment', 'deceased_indicator', 'owns_car', 'tenure'] -> 10\n",
        "\n",
        "* "
      ]
    },
    {
      "cell_type": "code",
      "execution_count": null,
      "metadata": {
        "id": "v_RkwR0J-vU5"
      },
      "outputs": [],
      "source": [
        "# new_cus_list_col = wanted_new_cus_list.columns.to_list()\n",
        "\n",
        "# trans_col = transactions.columns.to_list()\n",
        "# cus_demo_col = customer_demographic.columns.to_list()\n",
        "# cus_add_col = customer_address.columns.to_list()\n",
        "\n",
        "# print(trans_col)\n",
        "# print(cus_demo_col)\n",
        "# print(cus_add_col)"
      ]
    },
    {
      "cell_type": "code",
      "execution_count": null,
      "metadata": {
        "id": "qZvgV83-Bpid"
      },
      "outputs": [],
      "source": [
        "# trans_col_in_nclc = [col for col in trans_col if col in new_cus_list_col]\n",
        "# cus_demo_col_in_nclc = [col for col in cus_demo_col if col in new_cus_list_col]\n",
        "# cus_add_col_in_nclc = [col for col in cus_add_col if col in new_cus_list_col]\n",
        "\n",
        "# print(trans_col_in_nclc, len(trans_col_in_nclc))\n",
        "# print(cus_demo_col_in_nclc, len(cus_demo_col_in_nclc))\n",
        "# print(cus_add_col_in_nclc, len(cus_add_col_in_nclc))"
      ]
    }
  ],
  "metadata": {
    "colab": {
      "name": "data_insight.ipynb",
      "provenance": [],
      "toc_visible": true,
      "authorship_tag": "ABX9TyNDh8vRnpe2TsF61bzrR5fO",
      "include_colab_link": true
    },
    "kernelspec": {
      "display_name": "Python 3",
      "name": "python3"
    },
    "language_info": {
      "name": "python"
    }
  },
  "nbformat": 4,
  "nbformat_minor": 0
}